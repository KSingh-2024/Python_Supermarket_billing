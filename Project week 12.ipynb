{
 "cells": [
  {
   "cell_type": "code",
   "execution_count": 1,
   "id": "3058411d-7eec-4959-9985-172ad405ac55",
   "metadata": {
    "jp-MarkdownHeadingCollapsed": true
   },
   "outputs": [
    {
     "name": "stdout",
     "output_type": "stream",
     "text": [
      "    Welcome to the Supermarket Billing System\n",
      "==================================================\n"
     ]
    },
    {
     "name": "stdin",
     "output_type": "stream",
     "text": [
      "Please enter the customer name:  Customer 1\n",
      "Please enter customer number:  123456\n",
      "Enter the item name (or type 'finish' to conclude the billing for the customer):  Chips\n",
      "Enter the price for Chips:  2\n",
      "Enter the quantity for Chips:  2\n",
      "Enter the item name (or type 'finish' to conclude the billing for the customer):  Biscuits\n",
      "Enter the price for Biscuits:  4\n",
      "Enter the quantity for Biscuits:  2\n",
      "Enter the item name (or type 'finish' to conclude the billing for the customer):  finish\n"
     ]
    },
    {
     "name": "stdout",
     "output_type": "stream",
     "text": [
      "\n",
      "============== ITEMIZED RECEIPT ===============\n",
      "\n",
      "Customer Name: Customer 1\n",
      "Customer Number: 123456\n",
      "Chips (x2) - $2.00 each: $4.00\n",
      "Biscuits (x2) - $4.00 each: $8.00\n",
      "--------------------------------------------------\n",
      "Subtotal: $12.00\n",
      "Discount: -$1.20\n",
      "Total: $10.80\n",
      "==================================================\n",
      "\n"
     ]
    },
    {
     "name": "stdin",
     "output_type": "stream",
     "text": [
      "Are there more customers: y/n y\n",
      "Please enter the customer name:  Customer 2\n",
      "Please enter customer number:  98765432\n",
      "Enter the item name (or type 'finish' to conclude the billing for the customer):  Milk\n",
      "Enter the price for Milk:  5\n",
      "Enter the quantity for Milk:  2\n",
      "Enter the item name (or type 'finish' to conclude the billing for the customer):  Oreo\n",
      "Enter the price for Oreo:  4\n",
      "Enter the quantity for Oreo:  2\n",
      "Enter the item name (or type 'finish' to conclude the billing for the customer):  finish\n"
     ]
    },
    {
     "name": "stdout",
     "output_type": "stream",
     "text": [
      "\n",
      "============== ITEMIZED RECEIPT ===============\n",
      "\n",
      "Customer Name: Customer 2\n",
      "Customer Number: 98765432\n",
      "Milk (x2) - $5.00 each: $10.00\n",
      "Oreo (x2) - $4.00 each: $8.00\n",
      "--------------------------------------------------\n",
      "Subtotal: $18.00\n",
      "Discount: -$3.60\n",
      "Total: $14.40\n",
      "==================================================\n",
      "\n"
     ]
    },
    {
     "name": "stdin",
     "output_type": "stream",
     "text": [
      "Are there more customers: y/n n\n"
     ]
    }
   ],
   "source": [
    "# Intializing all the variables used in the program\n",
    "items = []\n",
    "total_price = 0\n",
    "discount = 0\n",
    "final_amount_due = 0\n",
    "\n",
    "# Welcome message\n",
    "print(\"    Welcome to the Supermarket Billing System\")\n",
    "print(\"=\"*50)\n",
    "\n",
    "# This is the outer loop to handle multiple customers (It has a inner loop to handle iterative data for 1 customer)\n",
    "while True:\n",
    "    customer_name=input(\"Please enter the customer name: \")\n",
    "    customer_phone_number=input(\"Please enter customer number: \")\n",
    "    \n",
    "    # This is the inner loop to handle 1 customers data input\n",
    "    while True:\n",
    "        item_name = input(\"Enter the item name (or type 'finish' to conclude the billing for the customer): \")\n",
    "        if item_name.lower() == 'finish': break                                         #This is the break from the inner loop when no more items to buy using the \"finish\" keyword\n",
    "        price = float(input(f\"Enter the price for {item_name}: \"))\n",
    "        quantity = int(input(f\"Enter the quantity for {item_name}: \"))\n",
    "        item_total = price * quantity\n",
    "        items.append({\"name\": item_name, \"price\": price, \"quantity\": quantity, \"total\": item_total})\n",
    "        total_price = total_price + item_total\n",
    "        \n",
    "        \n",
    "    #This is  the block of code for applying discount using the following grid\n",
    "    #  Total price    >=$10      >=$15        >$20\n",
    "    #  Discount        10%         20%         25%\n",
    "    if total_price >= 20:  \n",
    "        discount = total_price * 0.25\n",
    "    elif total_price >= 15: \n",
    "        discount = total_price * 0.2\n",
    "    elif total_price >= 10: \n",
    "        discount = total_price * 0.1\n",
    "    else:\n",
    "        discount = 0\n",
    "\n",
    "    final_amount_due = total_price - discount                                       #Amount after the discount is applied\n",
    "\n",
    "\n",
    "    # This is block where the itemized receipt is printed\n",
    "    print(\"\\n============== ITEMIZED RECEIPT ===============\")\n",
    "    print(\"\\nCustomer Name: \" + customer_name)\n",
    "    print(\"Customer Number: \" + customer_phone_number)\n",
    "    \n",
    "    # This for loop is for reading through the array of all the items, its quantity, its price and the total amount \n",
    "    for item in items:\n",
    "        print(f\"{item['name']} (x{item['quantity']}) - ${item['price']:.2f} each: ${item['total']:.2f}\")\n",
    "\n",
    "    # Block of code for formatting the itemized bill\n",
    "    print(\"-\"*50)\n",
    "    print(f\"Subtotal: ${total_price:.2f}\")\n",
    "    print(f\"Discount: -${discount:.2f}\")\n",
    "    print(f\"Total: ${final_amount_due:.2f}\")\n",
    "    print(\"=\"*50+\"\\n\")\n",
    "\n",
    "    #This is the conditional statement to break out of the outer loop when no more customers are there\n",
    "    if input(\"Are there more customers: y/n\") == 'y':\n",
    "        items = []\n",
    "        total_price = 0\n",
    "        discount = 0\n",
    "        final_amount_due = 0\n",
    "    else:\n",
    "        break                                              #This is the break from the outer loop when no more customers for billing"
   ]
  },
  {
   "cell_type": "code",
   "execution_count": null,
   "id": "db252e7e-90fb-4c59-a4fb-870b72996174",
   "metadata": {},
   "outputs": [],
   "source": []
  },
  {
   "cell_type": "code",
   "execution_count": null,
   "id": "c5a64bd2-3b6e-4be1-a3f7-e7614cbbb786",
   "metadata": {},
   "outputs": [],
   "source": []
  }
 ],
 "metadata": {
  "kernelspec": {
   "display_name": "Python 3 (ipykernel)",
   "language": "python",
   "name": "python3"
  },
  "language_info": {
   "codemirror_mode": {
    "name": "ipython",
    "version": 3
   },
   "file_extension": ".py",
   "mimetype": "text/x-python",
   "name": "python",
   "nbconvert_exporter": "python",
   "pygments_lexer": "ipython3",
   "version": "3.13.1"
  }
 },
 "nbformat": 4,
 "nbformat_minor": 5
}
